{
 "cells": [
  {
   "cell_type": "markdown",
   "id": "5de6990a-ea20-4e37-ac3d-04703c6a10bf",
   "metadata": {},
   "source": [
    "# Exploring .so sizes in Pyodide for scikit-learn\n",
    "\n",
    "As an example of a package with lots of Cython extensions\n",
    "\n",
    "Setup\n",
    "```bash\n",
    "pip install auditwheel-emscripten\n",
    "wget https://cdn.jsdelivr.net/pyodide/v0.24.1/debug/scikit_learn-1.3.1-cp311-cp311-emscripten_3_1_45_wasm32.whl\n",
    "mkdir -p data/wasm\n",
    "mv scikit_learn*wasm32.whl data/wasm/\n",
    "cd data/wasm\n",
    "unzip scikit_learn\n",
    "```\n",
    "\n",
    "\n",
    "## Looking at a single _random.so"
   ]
  },
  {
   "cell_type": "code",
   "execution_count": 9,
   "id": "48026151-7e01-485a-96e7-cec18757d376",
   "metadata": {},
   "outputs": [],
   "source": [
    "from auditwheel_emscripten.emscripten_tools.webassembly import Module, SecType"
   ]
  },
  {
   "cell_type": "code",
   "execution_count": 2,
   "id": "a2723cfe-be6f-4545-8028-9c87d5026695",
   "metadata": {},
   "outputs": [],
   "source": [
    "m = Module(\"data/wasm/sklearn/utils/_random.cpython-311-wasm32-emscripten.so\")"
   ]
  },
  {
   "cell_type": "code",
   "execution_count": 3,
   "id": "9d1d6f9b-e36c-4686-8652-8e4e54343ce8",
   "metadata": {},
   "outputs": [
    {
     "data": {
      "text/plain": [
       "[Section(type=<SecType.CUSTOM: 0>, size=17, offset=10, name='dylink.0'),\n",
       " Section(type=<SecType.TYPE: 1>, size=134, offset=30, name=None),\n",
       " Section(type=<SecType.IMPORT: 2>, size=4326, offset=167, name=None),\n",
       " Section(type=<SecType.FUNCTION: 3>, size=128, offset=4496, name=None),\n",
       " Section(type=<SecType.GLOBAL: 6>, size=8, offset=4626, name=None),\n",
       " Section(type=<SecType.EXPORT: 7>, size=115, offset=4636, name=None),\n",
       " Section(type=<SecType.ELEM: 9>, size=156, offset=4754, name=None),\n",
       " Section(type=<SecType.CODE: 10>, size=97474, offset=4914, name=None),\n",
       " Section(type=<SecType.DATA: 11>, size=21920, offset=102392, name=None),\n",
       " Section(type=<SecType.CUSTOM: 0>, size=44, offset=124314, name='target_features')]"
      ]
     },
     "execution_count": 3,
     "metadata": {},
     "output_type": "execute_result"
    }
   ],
   "source": [
    "list(m.sections())"
   ]
  },
  {
   "cell_type": "code",
   "execution_count": 4,
   "id": "956068cc-b703-4109-8239-6258ff6f547c",
   "metadata": {},
   "outputs": [
    {
     "data": {
      "text/plain": [
       "[('+', 'mutable-globals'), ('+', 'sign-ext')]"
      ]
     },
     "execution_count": 4,
     "metadata": {},
     "output_type": "execute_result"
    }
   ],
   "source": [
    "m.parse_features_section()"
   ]
  },
  {
   "cell_type": "code",
   "execution_count": 5,
   "id": "63e817ff-794a-4db0-ab46-41e0cc3147f3",
   "metadata": {},
   "outputs": [
    {
     "data": {
      "text/plain": [
       "Dylink(mem_size=21912, mem_align=4, table_size=75, table_align=0, needed=[], export_info={}, import_info={})"
      ]
     },
     "execution_count": 5,
     "metadata": {},
     "output_type": "execute_result"
    }
   ],
   "source": [
    "m.parse_dylink_section()"
   ]
  },
  {
   "cell_type": "code",
   "execution_count": 7,
   "id": "2ecc4b09-94c9-40d9-b1d6-bbd1552cb3db",
   "metadata": {},
   "outputs": [
    {
     "data": {
      "text/plain": [
       "[Export(name='__wasm_call_ctors', kind=<ExternType.FUNC: 0>, index=136),\n",
       " Export(name='__wasm_apply_data_relocs', kind=<ExternType.FUNC: 0>, index=137),\n",
       " Export(name='PyInit__random', kind=<ExternType.FUNC: 0>, index=138),\n",
       " Export(name='__pyx_module_is_main_sklearn__utils___random', kind=<ExternType.GLOBAL: 3>, index=38)]"
      ]
     },
     "execution_count": 7,
     "metadata": {},
     "output_type": "execute_result"
    }
   ],
   "source": [
    "m.get_exports()"
   ]
  },
  {
   "cell_type": "code",
   "execution_count": 8,
   "id": "568ade3c-a63e-4f4b-9f9a-f7aac5486402",
   "metadata": {},
   "outputs": [
    {
     "data": {
      "text/plain": [
       "[Import(kind=<ExternType.FUNC: 0>, module='env', field='PyModuleDef_Init', type=2),\n",
       " Import(kind=<ExternType.FUNC: 0>, module='env', field='PyDict_Size', type=2),\n",
       " Import(kind=<ExternType.FUNC: 0>, module='env', field='_PyDict_GetItem_KnownHash', type=1),\n",
       " Import(kind=<ExternType.FUNC: 0>, module='env', field='PyErr_Occurred', type=4),\n",
       " Import(kind=<ExternType.FUNC: 0>, module='env', field='PyErr_Format', type=1),\n",
       " Import(kind=<ExternType.FUNC: 0>, module='env', field='PyDict_Next', type=5),\n",
       " Import(kind=<ExternType.FUNC: 0>, module='env', field='PyUnicode_Compare', type=0),\n",
       " Import(kind=<ExternType.FUNC: 0>, module='env', field='PyLong_AsLong', type=2),\n",
       " Import(kind=<ExternType.FUNC: 0>, module='env', field='_Py_Dealloc', type=3),\n",
       " Import(kind=<ExternType.FUNC: 0>, module='env', field='PyThreadState_Get', type=4),\n",
       " Import(kind=<ExternType.FUNC: 0>, module='env', field='PyErr_Fetch', type=6),\n",
       " Import(kind=<ExternType.FUNC: 0>, module='env', field='_PyObject_GetDictPtr', type=2),\n",
       " Import(kind=<ExternType.FUNC: 0>, module='env', field='PyObject_GetAttr', type=0),\n",
       " Import(kind=<ExternType.FUNC: 0>, module='env', field='PyObject_Not', type=2),\n",
       " Import(kind=<ExternType.FUNC: 0>, module='env', field='PyErr_Clear', type=7),\n",
       " Import(kind=<ExternType.FUNC: 0>, module='env', field='PyObject_SetAttr', type=1),\n",
       " Import(kind=<ExternType.FUNC: 0>, module='env', field='PyErr_Restore', type=6),\n",
       " Import(kind=<ExternType.FUNC: 0>, module='env', field='PyCode_NewEmpty', type=1),\n",
       " Import(kind=<ExternType.FUNC: 0>, module='env', field='PyUnicode_FromFormat', type=0),\n",
       " Import(kind=<ExternType.FUNC: 0>, module='env', field='PyUnicode_AsUTF8', type=2),\n",
       " Import(kind=<ExternType.FUNC: 0>, module='env', field='PyMem_Malloc', type=2),\n",
       " Import(kind=<ExternType.FUNC: 0>, module='env', field='PyMem_Realloc', type=0),\n",
       " Import(kind=<ExternType.FUNC: 0>, module='env', field='PyFrame_New', type=5),\n",
       " Import(kind=<ExternType.FUNC: 0>, module='env', field='PyTraceBack_Here', type=2),\n",
       " Import(kind=<ExternType.FUNC: 0>, module='env', field='PyErr_SetString', type=9),\n",
       " Import(kind=<ExternType.FUNC: 0>, module='env', field='PyErr_WarnFormat', type=5),\n",
       " Import(kind=<ExternType.FUNC: 0>, module='env', field='PyLong_FromLong', type=2),\n",
       " Import(kind=<ExternType.FUNC: 0>, module='env', field='PyUnicode_Format', type=0),\n",
       " Import(kind=<ExternType.FUNC: 0>, module='env', field='PyTuple_New', type=2),\n",
       " Import(kind=<ExternType.FUNC: 0>, module='env', field='PyObject_Str', type=2),\n",
       " Import(kind=<ExternType.FUNC: 0>, module='env', field='PyType_IsSubtype', type=0),\n",
       " Import(kind=<ExternType.FUNC: 0>, module='env', field='Py_EnterRecursiveCall', type=2),\n",
       " Import(kind=<ExternType.FUNC: 0>, module='env', field='Py_LeaveRecursiveCall', type=7),\n",
       " Import(kind=<ExternType.FUNC: 0>, module='env', field='PyErr_SetObject', type=9),\n",
       " Import(kind=<ExternType.FUNC: 0>, module='env', field='PyObject_Call', type=1),\n",
       " Import(kind=<ExternType.FUNC: 0>, module='env', field='PyUnicode_New', type=0),\n",
       " Import(kind=<ExternType.FUNC: 0>, module='env', field='_PyUnicode_Ready', type=2),\n",
       " Import(kind=<ExternType.FUNC: 0>, module='env', field='memcpy', type=1),\n",
       " Import(kind=<ExternType.FUNC: 0>, module='env', field='_PyUnicode_FastCopyCharacters', type=10),\n",
       " Import(kind=<ExternType.FUNC: 0>, module='env', field='PyObject_Format', type=0),\n",
       " Import(kind=<ExternType.FUNC: 0>, module='env', field='memset', type=1),\n",
       " Import(kind=<ExternType.FUNC: 0>, module='env', field='PyDict_New', type=4),\n",
       " Import(kind=<ExternType.FUNC: 0>, module='env', field='PyDict_SetItem', type=1),\n",
       " Import(kind=<ExternType.FUNC: 0>, module='env', field='PySet_New', type=2),\n",
       " Import(kind=<ExternType.FUNC: 0>, module='env', field='PySet_Contains', type=0),\n",
       " Import(kind=<ExternType.FUNC: 0>, module='env', field='PyErr_ExceptionMatches', type=2),\n",
       " Import(kind=<ExternType.FUNC: 0>, module='env', field='PyFrozenSet_New', type=2),\n",
       " Import(kind=<ExternType.FUNC: 0>, module='env', field='PySet_Add', type=0),\n",
       " Import(kind=<ExternType.FUNC: 0>, module='env', field='PyLong_FromSsize_t', type=2),\n",
       " Import(kind=<ExternType.FUNC: 0>, module='env', field='PyNumber_InPlaceMultiply', type=0),\n",
       " Import(kind=<ExternType.FUNC: 0>, module='env', field='PyLong_AsSsize_t', type=2),\n",
       " Import(kind=<ExternType.FUNC: 0>, module='env', field='PyNumber_Index', type=2),\n",
       " Import(kind=<ExternType.FUNC: 0>, module='env', field='vsnprintf', type=5),\n",
       " Import(kind=<ExternType.FUNC: 0>, module='env', field='_Py_FatalErrorFunc', type=9),\n",
       " Import(kind=<ExternType.FUNC: 0>, module='env', field='PySlice_New', type=1),\n",
       " Import(kind=<ExternType.FUNC: 0>, module='env', field='memcmp', type=1),\n",
       " Import(kind=<ExternType.FUNC: 0>, module='env', field='PyObject_RichCompare', type=1),\n",
       " Import(kind=<ExternType.FUNC: 0>, module='env', field='PyObject_IsTrue', type=2),\n",
       " Import(kind=<ExternType.FUNC: 0>, module='env', field='PyInterpreterState_GetID', type=11),\n",
       " Import(kind=<ExternType.FUNC: 0>, module='env', field='PyObject_GetAttrString', type=0),\n",
       " Import(kind=<ExternType.FUNC: 0>, module='env', field='PyModule_NewObject', type=2),\n",
       " Import(kind=<ExternType.FUNC: 0>, module='env', field='PyModule_GetDict', type=2),\n",
       " Import(kind=<ExternType.FUNC: 0>, module='env', field='PyDict_SetItemString', type=1),\n",
       " Import(kind=<ExternType.FUNC: 0>, module='env', field='Py_GetVersion', type=4),\n",
       " Import(kind=<ExternType.FUNC: 0>, module='env', field='PyOS_snprintf', type=5),\n",
       " Import(kind=<ExternType.FUNC: 0>, module='env', field='PyErr_WarnEx', type=1),\n",
       " Import(kind=<ExternType.FUNC: 0>, module='env', field='PyBytes_FromStringAndSize', type=0),\n",
       " Import(kind=<ExternType.FUNC: 0>, module='env', field='PyUnicode_FromStringAndSize', type=0),\n",
       " Import(kind=<ExternType.FUNC: 0>, module='env', field='PyImport_AddModule', type=2),\n",
       " Import(kind=<ExternType.FUNC: 0>, module='env', field='PyObject_SetAttrString', type=1),\n",
       " Import(kind=<ExternType.FUNC: 0>, module='env', field='_PyInterpreterState_GetConfig', type=2),\n",
       " Import(kind=<ExternType.FUNC: 0>, module='env', field='PyUnicode_InternFromString', type=2),\n",
       " Import(kind=<ExternType.FUNC: 0>, module='env', field='PyUnicode_Decode', type=5),\n",
       " Import(kind=<ExternType.FUNC: 0>, module='env', field='PyObject_Hash', type=2),\n",
       " Import(kind=<ExternType.FUNC: 0>, module='env', field='PyImport_GetModuleDict', type=4),\n",
       " Import(kind=<ExternType.FUNC: 0>, module='env', field='PyDict_GetItemString', type=0),\n",
       " Import(kind=<ExternType.FUNC: 0>, module='env', field='PyTuple_Pack', type=0),\n",
       " Import(kind=<ExternType.FUNC: 0>, module='env', field='PyList_New', type=2),\n",
       " Import(kind=<ExternType.FUNC: 0>, module='env', field='PyCMethod_New', type=5),\n",
       " Import(kind=<ExternType.FUNC: 0>, module='env', field='PyCapsule_New', type=1),\n",
       " Import(kind=<ExternType.FUNC: 0>, module='env', field='PyType_Modified', type=3),\n",
       " Import(kind=<ExternType.FUNC: 0>, module='env', field='PyThread_allocate_lock', type=4),\n",
       " Import(kind=<ExternType.FUNC: 0>, module='env', field='PyDict_GetItem', type=0),\n",
       " Import(kind=<ExternType.FUNC: 0>, module='env', field='PyModule_AddObject', type=1),\n",
       " Import(kind=<ExternType.FUNC: 0>, module='env', field='PyType_Ready', type=2),\n",
       " Import(kind=<ExternType.FUNC: 0>, module='env', field='PyObject_GenericGetAttr', type=0),\n",
       " Import(kind=<ExternType.FUNC: 0>, module='env', field='PyImport_ImportModule', type=2),\n",
       " Import(kind=<ExternType.FUNC: 0>, module='env', field='PyImport_ImportModuleLevelObject', type=8),\n",
       " Import(kind=<ExternType.FUNC: 0>, module='env', field='PyErr_GetExcInfo', type=6),\n",
       " Import(kind=<ExternType.FUNC: 0>, module='env', field='PyCapsule_GetPointer', type=0),\n",
       " Import(kind=<ExternType.FUNC: 0>, module='env', field='PyErr_SetExcInfo', type=6),\n",
       " Import(kind=<ExternType.FUNC: 0>, module='env', field='PyUnicode_AsUTF8AndSize', type=0),\n",
       " Import(kind=<ExternType.FUNC: 0>, module='env', field='_PyType_Lookup', type=0),\n",
       " Import(kind=<ExternType.FUNC: 0>, module='env', field='_PyObject_GenericGetAttrWithDict', type=5),\n",
       " Import(kind=<ExternType.FUNC: 0>, module='env', field='PyDict_DelItem', type=0),\n",
       " Import(kind=<ExternType.FUNC: 0>, module='env', field='PyObject_GetIter', type=2),\n",
       " Import(kind=<ExternType.FUNC: 0>, module='env', field='PyErr_NoMemory', type=4),\n",
       " Import(kind=<ExternType.FUNC: 0>, module='env', field='PyMem_Free', type=3),\n",
       " Import(kind=<ExternType.FUNC: 0>, module='env', field='PyGILState_Ensure', type=4),\n",
       " Import(kind=<ExternType.FUNC: 0>, module='env', field='PyGILState_Release', type=3),\n",
       " Import(kind=<ExternType.FUNC: 0>, module='env', field='PyBytes_FromString', type=2),\n",
       " Import(kind=<ExternType.FUNC: 0>, module='env', field='strlen', type=2),\n",
       " Import(kind=<ExternType.FUNC: 0>, module='env', field='PyObject_GetItem', type=0),\n",
       " Import(kind=<ExternType.FUNC: 0>, module='env', field='PySequence_Tuple', type=2),\n",
       " Import(kind=<ExternType.FUNC: 0>, module='env', field='PyNumber_Add', type=0),\n",
       " Import(kind=<ExternType.FUNC: 0>, module='env', field='PyObject_GC_IsFinalized', type=2),\n",
       " Import(kind=<ExternType.FUNC: 0>, module='env', field='PyObject_CallFinalizerFromDealloc', type=2),\n",
       " Import(kind=<ExternType.FUNC: 0>, module='env', field='free', type=3),\n",
       " Import(kind=<ExternType.FUNC: 0>, module='env', field='PyObject_Free', type=3),\n",
       " Import(kind=<ExternType.FUNC: 0>, module='env', field='PyObject_Malloc', type=2),\n",
       " Import(kind=<ExternType.FUNC: 0>, module='env', field='PyNumber_Remainder', type=0),\n",
       " Import(kind=<ExternType.FUNC: 0>, module='env', field='malloc', type=2),\n",
       " Import(kind=<ExternType.FUNC: 0>, module='env', field='PyObject_SetItem', type=1),\n",
       " Import(kind=<ExternType.FUNC: 0>, module='env', field='PyErr_GivenExceptionMatches', type=0),\n",
       " Import(kind=<ExternType.FUNC: 0>, module='env', field='PyObject_RichCompareBool', type=1),\n",
       " Import(kind=<ExternType.FUNC: 0>, module='env', field='PyObject_GC_UnTrack', type=3),\n",
       " Import(kind=<ExternType.FUNC: 0>, module='env', field='PyNumber_InPlaceAdd', type=0),\n",
       " Import(kind=<ExternType.FUNC: 0>, module='env', field='PyErr_NormalizeException', type=6),\n",
       " Import(kind=<ExternType.FUNC: 0>, module='env', field='PyException_SetTraceback', type=0),\n",
       " Import(kind=<ExternType.FUNC: 0>, module='env', field='PyUnicode_DecodeASCII', type=1),\n",
       " Import(kind=<ExternType.FUNC: 0>, module='env', field='PyBuffer_Release', type=3),\n",
       " Import(kind=<ExternType.FUNC: 0>, module='env', field='PyThread_free_lock', type=3),\n",
       " Import(kind=<ExternType.FUNC: 0>, module='env', field='PyObject_GetBuffer', type=1),\n",
       " Import(kind=<ExternType.FUNC: 0>, module='env', field='PyErr_SetNone', type=3),\n",
       " Import(kind=<ExternType.FUNC: 0>, module='env', field='PyIndex_Check', type=2),\n",
       " Import(kind=<ExternType.FUNC: 0>, module='env', field='_PyList_Extend', type=0),\n",
       " Import(kind=<ExternType.FUNC: 0>, module='env', field='PyList_AsTuple', type=2),\n",
       " Import(kind=<ExternType.FUNC: 0>, module='env', field='PyLong_FromLongLong', type=12),\n",
       " Import(kind=<ExternType.FUNC: 0>, module='env', field='PyFloat_FromDouble', type=13),\n",
       " Import(kind=<ExternType.FUNC: 0>, module='env', field='PyObject_Size', type=2),\n",
       " Import(kind=<ExternType.FUNC: 0>, module='env', field='PyList_Append', type=0),\n",
       " Import(kind=<ExternType.FUNC: 0>, module='env', field='PyNumber_Multiply', type=0),\n",
       " Import(kind=<ExternType.FUNC: 0>, module='env', field='PyObject_GC_Track', type=3),\n",
       " Import(kind=<ExternType.FUNC: 0>, module='env', field='PyLong_FromUnsignedLong', type=2),\n",
       " Import(kind=<ExternType.FUNC: 0>, module='env', field='PyLong_AsUnsignedLong', type=2),\n",
       " Import(kind=<ExternType.FUNC: 0>, module='env', field='PySequence_Contains', type=0),\n",
       " Import(kind=<ExternType.GLOBAL: 3>, module='env', field='__stack_pointer', type=-1),\n",
       " Import(kind=<ExternType.GLOBAL: 3>, module='env', field='__memory_base', type=-1),\n",
       " Import(kind=<ExternType.GLOBAL: 3>, module='env', field='__table_base', type=-1),\n",
       " Import(kind=<ExternType.GLOBAL: 3>, module='GOT.mem', field='PyExc_TypeError', type=-1),\n",
       " Import(kind=<ExternType.GLOBAL: 3>, module='GOT.mem', field='PyUnicode_Type', type=-1),\n",
       " Import(kind=<ExternType.GLOBAL: 3>, module='GOT.mem', field='_Py_NoneStruct', type=-1),\n",
       " Import(kind=<ExternType.GLOBAL: 3>, module='GOT.mem', field='_Py_TrueStruct', type=-1),\n",
       " Import(kind=<ExternType.GLOBAL: 3>, module='GOT.mem', field='_Py_FalseStruct', type=-1),\n",
       " Import(kind=<ExternType.GLOBAL: 3>, module='GOT.mem', field='PyLong_Type', type=-1),\n",
       " Import(kind=<ExternType.GLOBAL: 3>, module='GOT.mem', field='PyExc_SystemError', type=-1),\n",
       " Import(kind=<ExternType.GLOBAL: 3>, module='GOT.mem', field='PyMethod_Type', type=-1),\n",
       " Import(kind=<ExternType.GLOBAL: 3>, module='GOT.mem', field='PyCFunction_Type', type=-1),\n",
       " Import(kind=<ExternType.GLOBAL: 3>, module='GOT.mem', field='PySet_Type', type=-1),\n",
       " Import(kind=<ExternType.GLOBAL: 3>, module='GOT.mem', field='PyFrozenSet_Type', type=-1),\n",
       " Import(kind=<ExternType.GLOBAL: 3>, module='GOT.mem', field='PyExc_DeprecationWarning', type=-1),\n",
       " Import(kind=<ExternType.GLOBAL: 3>, module='GOT.mem', field='PyExc_OverflowError', type=-1),\n",
       " Import(kind=<ExternType.GLOBAL: 3>, module='GOT.mem', field='PyExc_NameError', type=-1),\n",
       " Import(kind=<ExternType.GLOBAL: 3>, module='GOT.mem', field='PyBaseObject_Type', type=-1),\n",
       " Import(kind=<ExternType.GLOBAL: 3>, module='GOT.mem', field='PyExc_ValueError', type=-1),\n",
       " Import(kind=<ExternType.GLOBAL: 3>, module='GOT.mem', field='PyExc_ImportError', type=-1),\n",
       " Import(kind=<ExternType.GLOBAL: 3>, module='GOT.mem', field='PyExc_AttributeError', type=-1),\n",
       " Import(kind=<ExternType.GLOBAL: 3>, module='GOT.mem', field='PyExc_RuntimeError', type=-1),\n",
       " Import(kind=<ExternType.GLOBAL: 3>, module='GOT.mem', field='__pyx_module_is_main_sklearn__utils___random', type=-1),\n",
       " Import(kind=<ExternType.GLOBAL: 3>, module='GOT.func', field='PyObject_GenericGetAttr', type=-1),\n",
       " Import(kind=<ExternType.GLOBAL: 3>, module='GOT.mem', field='PyCapsule_Type', type=-1),\n",
       " Import(kind=<ExternType.GLOBAL: 3>, module='GOT.mem', field='PyExc_Exception', type=-1),\n",
       " Import(kind=<ExternType.GLOBAL: 3>, module='GOT.mem', field='PyExc_BufferError', type=-1),\n",
       " Import(kind=<ExternType.GLOBAL: 3>, module='GOT.mem', field='PyTuple_Type', type=-1),\n",
       " Import(kind=<ExternType.GLOBAL: 3>, module='GOT.mem', field='PyBytes_Type', type=-1),\n",
       " Import(kind=<ExternType.GLOBAL: 3>, module='GOT.mem', field='PyList_Type', type=-1),\n",
       " Import(kind=<ExternType.GLOBAL: 3>, module='GOT.mem', field='PyExc_StopIteration', type=-1),\n",
       " Import(kind=<ExternType.GLOBAL: 3>, module='GOT.mem', field='PyExc_ZeroDivisionError', type=-1),\n",
       " Import(kind=<ExternType.GLOBAL: 3>, module='GOT.mem', field='PyExc_IndexError', type=-1),\n",
       " Import(kind=<ExternType.GLOBAL: 3>, module='GOT.mem', field='PyExc_NotImplementedError', type=-1),\n",
       " Import(kind=<ExternType.GLOBAL: 3>, module='GOT.mem', field='PyExc_AssertionError', type=-1),\n",
       " Import(kind=<ExternType.GLOBAL: 3>, module='GOT.mem', field='PyExc_UnboundLocalError', type=-1),\n",
       " Import(kind=<ExternType.GLOBAL: 3>, module='GOT.mem', field='PyFloat_Type', type=-1),\n",
       " Import(kind=<ExternType.GLOBAL: 3>, module='GOT.mem', field='PySlice_Type', type=-1),\n",
       " Import(kind=<ExternType.MEMORY: 2>, module='env', field='memory', type=None),\n",
       " Import(kind=<ExternType.TABLE: 1>, module='env', field='__indirect_function_table', type=-16)]"
      ]
     },
     "execution_count": 8,
     "metadata": {},
     "output_type": "execute_result"
    }
   ],
   "source": [
    "m.get_imports()"
   ]
  },
  {
   "cell_type": "code",
   "execution_count": 11,
   "id": "22b049c5-69e0-4212-aba7-a3ee5ce3ad38",
   "metadata": {},
   "outputs": [],
   "source": [
    "code_sec = m.get_section(SecType.CODE)"
   ]
  },
  {
   "cell_type": "code",
   "execution_count": 12,
   "id": "46e836be-993f-4520-8858-4117551883c6",
   "metadata": {},
   "outputs": [
    {
     "data": {
      "text/plain": [
       "Section(type=<SecType.CODE: 10>, size=97474, offset=4914, name=None)"
      ]
     },
     "execution_count": 12,
     "metadata": {},
     "output_type": "execute_result"
    }
   ],
   "source": [
    "code_sec"
   ]
  },
  {
   "cell_type": "code",
   "execution_count": 14,
   "id": "a379812e-a36d-4a46-ac8f-66bfa2a033c4",
   "metadata": {},
   "outputs": [],
   "source": [
    "functions = m.get_functions()"
   ]
  },
  {
   "cell_type": "code",
   "execution_count": 19,
   "id": "92a2da6c-ff26-4a31-b71e-cf2d40c20ac3",
   "metadata": {},
   "outputs": [
    {
     "data": {
      "text/plain": [
       "[FunctionBody(offset=4916, size=2),\n",
       " FunctionBody(offset=4920, size=6509),\n",
       " FunctionBody(offset=11430, size=11),\n",
       " FunctionBody(offset=11443, size=565),\n",
       " FunctionBody(offset=12010, size=524),\n",
       " FunctionBody(offset=12535, size=112),\n",
       " FunctionBody(offset=12649, size=963),\n",
       " FunctionBody(offset=13614, size=1582),\n",
       " FunctionBody(offset=15198, size=728),\n",
       " FunctionBody(offset=15928, size=3667),\n",
       " FunctionBody(offset=19597, size=727),\n",
       " FunctionBody(offset=20326, size=3849),\n",
       " FunctionBody(offset=24177, size=732),\n",
       " FunctionBody(offset=24911, size=3091),\n",
       " FunctionBody(offset=28004, size=868),\n",
       " FunctionBody(offset=28874, size=2399),\n",
       " FunctionBody(offset=31275, size=290),\n",
       " FunctionBody(offset=31567, size=143),\n",
       " FunctionBody(offset=31712, size=222),\n",
       " FunctionBody(offset=31935, size=39),\n",
       " FunctionBody(offset=31976, size=328),\n",
       " FunctionBody(offset=32306, size=146),\n",
       " FunctionBody(offset=32453, size=85),\n",
       " FunctionBody(offset=32539, size=94),\n",
       " FunctionBody(offset=32634, size=81),\n",
       " FunctionBody(offset=32717, size=859),\n",
       " FunctionBody(offset=33578, size=204),\n",
       " FunctionBody(offset=33783, size=9),\n",
       " FunctionBody(offset=33793, size=34),\n",
       " FunctionBody(offset=33829, size=1391),\n",
       " FunctionBody(offset=35221, size=51),\n",
       " FunctionBody(offset=35274, size=360),\n",
       " FunctionBody(offset=35636, size=353),\n",
       " FunctionBody(offset=35991, size=1419),\n",
       " FunctionBody(offset=37412, size=773),\n",
       " FunctionBody(offset=38187, size=1835),\n",
       " FunctionBody(offset=40024, size=252),\n",
       " FunctionBody(offset=40278, size=357),\n",
       " FunctionBody(offset=40637, size=445),\n",
       " FunctionBody(offset=41084, size=527),\n",
       " FunctionBody(offset=41613, size=10103),\n",
       " FunctionBody(offset=51718, size=759),\n",
       " FunctionBody(offset=52479, size=144),\n",
       " FunctionBody(offset=52625, size=601),\n",
       " FunctionBody(offset=53228, size=535),\n",
       " FunctionBody(offset=53765, size=334),\n",
       " FunctionBody(offset=54101, size=934),\n",
       " FunctionBody(offset=55037, size=1637),\n",
       " FunctionBody(offset=56676, size=1605),\n",
       " FunctionBody(offset=58283, size=142),\n",
       " FunctionBody(offset=58427, size=805),\n",
       " FunctionBody(offset=59234, size=899),\n",
       " FunctionBody(offset=60135, size=1225),\n",
       " FunctionBody(offset=61362, size=1270),\n",
       " FunctionBody(offset=62634, size=138),\n",
       " FunctionBody(offset=62773, size=93),\n",
       " FunctionBody(offset=62868, size=310),\n",
       " FunctionBody(offset=63180, size=341),\n",
       " FunctionBody(offset=63522, size=109),\n",
       " FunctionBody(offset=63632, size=14),\n",
       " FunctionBody(offset=63648, size=440),\n",
       " FunctionBody(offset=64090, size=556),\n",
       " FunctionBody(offset=64647, size=112),\n",
       " FunctionBody(offset=64761, size=4483),\n",
       " FunctionBody(offset=69246, size=225),\n",
       " FunctionBody(offset=69473, size=147),\n",
       " FunctionBody(offset=69622, size=315),\n",
       " FunctionBody(offset=69938, size=41),\n",
       " FunctionBody(offset=69981, size=193),\n",
       " FunctionBody(offset=70176, size=4621),\n",
       " FunctionBody(offset=74798, size=10),\n",
       " FunctionBody(offset=74809, size=64),\n",
       " FunctionBody(offset=74875, size=190),\n",
       " FunctionBody(offset=75067, size=611),\n",
       " FunctionBody(offset=75680, size=213),\n",
       " FunctionBody(offset=75895, size=176),\n",
       " FunctionBody(offset=76073, size=176),\n",
       " FunctionBody(offset=76250, size=47),\n",
       " FunctionBody(offset=76298, size=108),\n",
       " FunctionBody(offset=76407, size=22),\n",
       " FunctionBody(offset=76430, size=34),\n",
       " FunctionBody(offset=76465, size=66),\n",
       " FunctionBody(offset=76533, size=356),\n",
       " FunctionBody(offset=76890, size=84),\n",
       " FunctionBody(offset=76976, size=1529),\n",
       " FunctionBody(offset=78507, size=190),\n",
       " FunctionBody(offset=78699, size=826),\n",
       " FunctionBody(offset=79527, size=688),\n",
       " FunctionBody(offset=80217, size=331),\n",
       " FunctionBody(offset=80550, size=696),\n",
       " FunctionBody(offset=81248, size=349),\n",
       " FunctionBody(offset=81599, size=621),\n",
       " FunctionBody(offset=82222, size=401),\n",
       " FunctionBody(offset=82624, size=105),\n",
       " FunctionBody(offset=82731, size=229),\n",
       " FunctionBody(offset=82962, size=1124),\n",
       " FunctionBody(offset=84087, size=24),\n",
       " FunctionBody(offset=84113, size=5113),\n",
       " FunctionBody(offset=89228, size=2422),\n",
       " FunctionBody(offset=91652, size=1510),\n",
       " FunctionBody(offset=93164, size=201),\n",
       " FunctionBody(offset=93367, size=195),\n",
       " FunctionBody(offset=93564, size=509),\n",
       " FunctionBody(offset=94075, size=880),\n",
       " FunctionBody(offset=94957, size=493),\n",
       " FunctionBody(offset=95452, size=179),\n",
       " FunctionBody(offset=95633, size=179),\n",
       " FunctionBody(offset=95814, size=749),\n",
       " FunctionBody(offset=96564, size=22),\n",
       " FunctionBody(offset=96588, size=319),\n",
       " FunctionBody(offset=96909, size=495),\n",
       " FunctionBody(offset=97406, size=437),\n",
       " FunctionBody(offset=97844, size=42),\n",
       " FunctionBody(offset=97887, size=42),\n",
       " FunctionBody(offset=97931, size=242),\n",
       " FunctionBody(offset=98175, size=387),\n",
       " FunctionBody(offset=98564, size=340),\n",
       " FunctionBody(offset=98906, size=129),\n",
       " FunctionBody(offset=99037, size=248),\n",
       " FunctionBody(offset=99286, size=67),\n",
       " FunctionBody(offset=99355, size=179),\n",
       " FunctionBody(offset=99536, size=179),\n",
       " FunctionBody(offset=99716, size=23),\n",
       " FunctionBody(offset=99741, size=130),\n",
       " FunctionBody(offset=99872, size=126),\n",
       " FunctionBody(offset=100000, size=2275),\n",
       " FunctionBody(offset=102276, size=112)]"
      ]
     },
     "execution_count": 19,
     "metadata": {},
     "output_type": "execute_result"
    }
   ],
   "source": [
    "functions"
   ]
  },
  {
   "cell_type": "markdown",
   "id": "77473f5a-ee48-45c2-a791-f85dfa6130fe",
   "metadata": {},
   "source": [
    "## Analyzing all .so in scikit-learn"
   ]
  },
  {
   "cell_type": "code",
   "execution_count": 70,
   "id": "4f256fc0-f229-4a8c-9283-526bd83d3804",
   "metadata": {},
   "outputs": [
    {
     "data": {
      "text/html": [
       "<div>\n",
       "<style scoped>\n",
       "    .dataframe tbody tr th:only-of-type {\n",
       "        vertical-align: middle;\n",
       "    }\n",
       "\n",
       "    .dataframe tbody tr th {\n",
       "        vertical-align: top;\n",
       "    }\n",
       "\n",
       "    .dataframe thead th {\n",
       "        text-align: right;\n",
       "    }\n",
       "</style>\n",
       "<table border=\"1\" class=\"dataframe\">\n",
       "  <thead>\n",
       "    <tr style=\"text-align: right;\">\n",
       "      <th></th>\n",
       "      <th>module_name</th>\n",
       "      <th>module_size</th>\n",
       "      <th>code_section_size</th>\n",
       "      <th>data_section_size</th>\n",
       "      <th>n_funcs</th>\n",
       "    </tr>\n",
       "  </thead>\n",
       "  <tbody>\n",
       "    <tr>\n",
       "      <th>55</th>\n",
       "      <td>sklearn.utils._heap</td>\n",
       "      <td>7.212</td>\n",
       "      <td>4.363</td>\n",
       "      <td>1.199</td>\n",
       "      <td>8</td>\n",
       "    </tr>\n",
       "    <tr>\n",
       "      <th>1</th>\n",
       "      <td>sklearn.__check_build._check_build</td>\n",
       "      <td>7.610</td>\n",
       "      <td>4.681</td>\n",
       "      <td>1.215</td>\n",
       "      <td>6</td>\n",
       "    </tr>\n",
       "    <tr>\n",
       "      <th>61</th>\n",
       "      <td>sklearn.utils._sorting</td>\n",
       "      <td>8.382</td>\n",
       "      <td>5.504</td>\n",
       "      <td>1.191</td>\n",
       "      <td>8</td>\n",
       "    </tr>\n",
       "    <tr>\n",
       "      <th>41</th>\n",
       "      <td>sklearn.neighbors._partition_nodes</td>\n",
       "      <td>8.623</td>\n",
       "      <td>5.742</td>\n",
       "      <td>1.199</td>\n",
       "      <td>7</td>\n",
       "    </tr>\n",
       "    <tr>\n",
       "      <th>48</th>\n",
       "      <td>sklearn.svm._newrand</td>\n",
       "      <td>12.723</td>\n",
       "      <td>6.518</td>\n",
       "      <td>4.183</td>\n",
       "      <td>11</td>\n",
       "    </tr>\n",
       "    <tr>\n",
       "      <th>...</th>\n",
       "      <td>...</td>\n",
       "      <td>...</td>\n",
       "      <td>...</td>\n",
       "      <td>...</td>\n",
       "      <td>...</td>\n",
       "    </tr>\n",
       "    <tr>\n",
       "      <th>12</th>\n",
       "      <td>sklearn.datasets._svmlight_format_fast</td>\n",
       "      <td>315.733</td>\n",
       "      <td>279.798</td>\n",
       "      <td>29.760</td>\n",
       "      <td>249</td>\n",
       "    </tr>\n",
       "    <tr>\n",
       "      <th>51</th>\n",
       "      <td>sklearn.tree._tree</td>\n",
       "      <td>321.393</td>\n",
       "      <td>273.824</td>\n",
       "      <td>41.528</td>\n",
       "      <td>241</td>\n",
       "    </tr>\n",
       "    <tr>\n",
       "      <th>30</th>\n",
       "      <td>sklearn.metrics._dist_metrics</td>\n",
       "      <td>407.142</td>\n",
       "      <td>333.929</td>\n",
       "      <td>67.200</td>\n",
       "      <td>367</td>\n",
       "    </tr>\n",
       "    <tr>\n",
       "      <th>67</th>\n",
       "      <td>sklearn.utils.sparsefuncs_fast</td>\n",
       "      <td>456.191</td>\n",
       "      <td>418.526</td>\n",
       "      <td>32.152</td>\n",
       "      <td>201</td>\n",
       "    </tr>\n",
       "    <tr>\n",
       "      <th>2</th>\n",
       "      <td>sklearn._loss._loss</td>\n",
       "      <td>1422.462</td>\n",
       "      <td>1358.801</td>\n",
       "      <td>57.576</td>\n",
       "      <td>478</td>\n",
       "    </tr>\n",
       "  </tbody>\n",
       "</table>\n",
       "<p>68 rows × 5 columns</p>\n",
       "</div>"
      ],
      "text/plain": [
       "                               module_name  module_size  code_section_size  \\\n",
       "55                     sklearn.utils._heap        7.212              4.363   \n",
       "1       sklearn.__check_build._check_build        7.610              4.681   \n",
       "61                  sklearn.utils._sorting        8.382              5.504   \n",
       "41      sklearn.neighbors._partition_nodes        8.623              5.742   \n",
       "48                    sklearn.svm._newrand       12.723              6.518   \n",
       "..                                     ...          ...                ...   \n",
       "12  sklearn.datasets._svmlight_format_fast      315.733            279.798   \n",
       "51                      sklearn.tree._tree      321.393            273.824   \n",
       "30           sklearn.metrics._dist_metrics      407.142            333.929   \n",
       "67          sklearn.utils.sparsefuncs_fast      456.191            418.526   \n",
       "2                      sklearn._loss._loss     1422.462           1358.801   \n",
       "\n",
       "    data_section_size  n_funcs  \n",
       "55              1.199        8  \n",
       "1               1.215        6  \n",
       "61              1.191        8  \n",
       "41              1.199        7  \n",
       "48              4.183       11  \n",
       "..                ...      ...  \n",
       "12             29.760      249  \n",
       "51             41.528      241  \n",
       "30             67.200      367  \n",
       "67             32.152      201  \n",
       "2              57.576      478  \n",
       "\n",
       "[68 rows x 5 columns]"
      ]
     },
     "execution_count": 70,
     "metadata": {},
     "output_type": "execute_result"
    }
   ],
   "source": [
    "## Doing the work\n",
    "from typing import Any\n",
    "import hashlib\n",
    "import dataclasses\n",
    "import hashlib\n",
    "from pathlib import Path\n",
    "import re\n",
    "from io import BytesIO\n",
    "import pandas as pd\n",
    "import functools\n",
    "\n",
    "@dataclasses.dataclass\n",
    "class WasmFunction:\n",
    "    \"\"\"A container to handle metadata and bytecode for a WASM function\n",
    "\n",
    "    The hash of this object is the hash of the bytecode.\n",
    "    \"\"\"\n",
    "    name: str\n",
    "    offset: str\n",
    "    size: int\n",
    "    body: bytes\n",
    "\n",
    "    @property\n",
    "    def hash(self):\n",
    "        s = BytesIO(self.body)\n",
    "        digest = hashlib.file_digest(s, \"sha1\")\n",
    "        return digest.hexdigest()\n",
    "\n",
    "    def __hash__(self):\n",
    "        return int(self.hash, 16)\n",
    "\n",
    "    def __repr__(self):\n",
    "        return f'WasmFunction({self.name}, size={self.size})'\n",
    "        \n",
    "db : dict[str, FunctionHash] = {}\n",
    "\n",
    "def get_name_from_path(path: Path, base_name: str):\n",
    "    \"\"\"Return a nicer name from the path\"\"\"\n",
    "    parts = list(path.parts)\n",
    "    idx = parts.index(base_name)\n",
    "    if idx is not None:\n",
    "        parts = parts[idx:]\n",
    "    name = '.'.join(parts)\n",
    "    name = re.sub(r'\\.cpython-3\\d\\d-wasm32.*', '', name)\n",
    "    return name\n",
    "\n",
    "\n",
    "def parse_functions(mod: Module, mod_name: str) -> list[WasmFunction]:\n",
    "    \"\"\"Parse all functions in a module\"\"\"\n",
    "    res = []\n",
    "    for idx, func in enumerate(mod.get_functions()):\n",
    "        body = mod.read_at(func.offset, func.size)\n",
    "        res.append(WasmFunction(name=f'{mod_name}:func{idx}',\n",
    "                                body=body,\n",
    "                                offset=func.offset,\n",
    "                                size=func.size))\n",
    "    return res\n",
    "        \n",
    "    \n",
    "\n",
    "\n",
    "\n",
    "def process_module(path: Path, db: dict[str, FunctionHash], base_name: str=\"sklearn\") -> dict[str, Any]:\n",
    "    with Module(path) as mod:\n",
    "        mod_name = get_name_from_path(path, base_name)\n",
    "\n",
    "        funcs = parse_functions(mod, mod_name)\n",
    "        res = { \"module_name\": mod_name,\n",
    "                'module_size': mod.size/1000,\n",
    "                'code_section_size': mod.get_section(SecType.CODE).size / 1000,\n",
    "                'data_section_size': mod.get_section(SecType.DATA).size / 1000,\n",
    "                'n_funcs': len(mod.get_functions()), \n",
    "                'funcs': funcs}\n",
    "\n",
    "    \n",
    "    return res\n",
    "\n",
    "\n",
    "res = []\n",
    "for path in Path('data/wasm/sklearn').glob('**/*.so'):\n",
    "    \n",
    "    res_el = process_module(path, db)\n",
    "    res.append(res_el)\n",
    "    \n",
    "\n",
    "\n",
    "df = pd.DataFrame(res).sort_values('module_size')\n",
    "del df['funcs']\n",
    "df"
   ]
  },
  {
   "cell_type": "code",
   "execution_count": 82,
   "id": "d5e0144b-709c-428b-a274-bd038c5861eb",
   "metadata": {},
   "outputs": [
    {
     "name": "stdout",
     "output_type": "stream",
     "text": [
      "18997.906\n"
     ]
    }
   ],
   "source": [
    "total_whl_size = sum(path.stat().st_size for path in Path('data/wasm/sklearn').glob('**/*'))\n",
    "print(total_whl_size/1000)"
   ]
  },
  {
   "cell_type": "code",
   "execution_count": 83,
   "id": "6f92e012-d7ab-4cdd-8ede-16f84bc4c8a9",
   "metadata": {},
   "outputs": [
    {
     "data": {
      "text/plain": [
       "12041.390000000001"
      ]
     },
     "execution_count": 83,
     "metadata": {},
     "output_type": "execute_result"
    }
   ],
   "source": [
    "df['module_size'].sum()"
   ]
  },
  {
   "cell_type": "markdown",
   "id": "9ded75ae-0c48-4a89-840d-0f02860c8eb9",
   "metadata": {},
   "source": [
    "See if there any duplicate function content by hashing and counting the number of occurences"
   ]
  },
  {
   "cell_type": "code",
   "execution_count": 71,
   "id": "d434b5e2-d4c9-4250-956b-aa15c6cce9b2",
   "metadata": {},
   "outputs": [],
   "source": [
    "from collections import Counter\n",
    "import itertools\n",
    "\n",
    "global_db = Counter(list(itertools.chain.from_iterable([row['funcs'] for row in res])))"
   ]
  },
  {
   "cell_type": "code",
   "execution_count": 79,
   "id": "588e98e9-367d-48af-a758-1d3ec7e580d3",
   "metadata": {},
   "outputs": [
    {
     "data": {
      "text/plain": [
       "1"
      ]
     },
     "execution_count": 79,
     "metadata": {},
     "output_type": "execute_result"
    }
   ],
   "source": [
    "max(global_db.values())"
   ]
  },
  {
   "cell_type": "markdown",
   "id": "b1862386-91a7-44bc-a1f3-a76b27eed5f1",
   "metadata": {},
   "source": [
    "there are no duplicates"
   ]
  },
  {
   "cell_type": "code",
   "execution_count": null,
   "id": "35154c3d-c9bd-4e1f-8d41-afadca0d2ef0",
   "metadata": {},
   "outputs": [],
   "source": []
  }
 ],
 "metadata": {
  "kernelspec": {
   "display_name": "Python 3 (ipykernel)",
   "language": "python",
   "name": "python3"
  },
  "language_info": {
   "codemirror_mode": {
    "name": "ipython",
    "version": 3
   },
   "file_extension": ".py",
   "mimetype": "text/x-python",
   "name": "python",
   "nbconvert_exporter": "python",
   "pygments_lexer": "ipython3",
   "version": "3.11.5"
  }
 },
 "nbformat": 4,
 "nbformat_minor": 5
}
